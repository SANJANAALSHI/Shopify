{
 "cells": [
  {
   "cell_type": "markdown",
   "id": "61f51013-833e-4fa1-93ba-f9e8973413f8",
   "metadata": {},
   "source": [
    "# Inventory Management System Using Python & JSON\n",
    "<img src=\"IMS.jpg\">"
   ]
  },
  {
   "cell_type": "markdown",
   "id": "c7bce718-3bf1-48f8-b9df-fb6e0f90bec7",
   "metadata": {},
   "source": [
    "Inventory management systems are your means of organizing all the elements that go into inventory management. It’s the process by which you track goods from one end to the other along your supply chain. Ensuring throughout that you know what you have, where it is, and how to manage it. Inventory management refers to the process by which you track the amount of product product you have on your warehouse shelf, in store or sitting with other retailers and distributors. This enables you to succeed in having the right number of units in the right place, at the right time and for the right price. Keeping track of your inventory is fundamental to your success in retail. At the most basic level, after all, your job is to supply the products to meet consumer demand. You can’t do that without effective inventory management."
   ]
  },
  {
   "cell_type": "markdown",
   "id": "a5d7e7b1-96d8-481b-ba5e-1701063f4486",
   "metadata": {},
   "source": [
    "## Welcome To Shopify ##\n",
    "### Online Shopping App ###"
   ]
  },
  {
   "cell_type": "markdown",
   "id": "48997a95-1e6e-464b-9933-311c42518113",
   "metadata": {},
   "source": [
    "This App is for management of products in Shopify. We can perform different operations like Adding items to the list, Deleting items from the list, Editing existing items in the list as well as purchasing/selling items from the list."
   ]
  },
  {
   "cell_type": "code",
   "execution_count": 3,
   "id": "bc21ba3a-9c15-47ab-90a0-b46c61bb4c19",
   "metadata": {},
   "outputs": [
    {
     "name": "stdout",
     "output_type": "stream",
     "text": [
      "*************************************Welcome To Shopify**********************************************\n",
      "Enter 1 to Add item\n",
      "Enter 2 to Delete item\n",
      "Enter 3 to Edit item\n",
      "Enter 4 to Purchase item\n",
      "Enter 5 to View all items\n",
      "Enter 6 to Exit\n"
     ]
    },
    {
     "name": "stdin",
     "output_type": "stream",
     "text": [
      "What do you wish to do? Please enter your choice: 1\n"
     ]
    },
    {
     "name": "stdout",
     "output_type": "stream",
     "text": [
      "Add item in :\n",
      "\n",
      "Code\tProduct Details\n",
      "211  :  {'Pid': '001', 'Pname': 'Hershey Chocolate', 'Pprice': 15, 'Pqty': 55, 'Net weight': '10g'}\n",
      "312  :  {'Pid': '002', 'Pname': 'Aul Ice cream', 'Pprice': 30, 'Pqty': 25, 'Net weight': '20g'}\n",
      "413  :  {'Pid': '003', 'Pname': 'Lactone Pastry', 'Pprice': 45, 'Pqty': 20, 'Net weight': '20g'}\n",
      "514  :  {'Pid': '004', 'Pname': 'Pepsi Coke', 'Pprice': 50, 'Pqty': 30, 'Net weight': '40ml'}\n",
      "615  :  {'Pid': '005', 'Pname': 'Heins Tomato Ketchup', 'Pprice': 45, 'Pqty': 15, 'Net weight': '50g'}\n",
      "716  :  {'Pid': '006', 'Pname': 'Amul Cheese', 'Pprice': 40, 'Pqty': 10, 'Net weight': '100g'}\n",
      "817  :  {'Pid': '007', 'Pname': 'Brown Sugar', 'Pprice': 50, 'Pqty': 35, 'Net weight': '1kg'}\n",
      "918  :  {'Pid': '008', 'Pname': 'Green Tea powder', 'Pprice': 20, 'Pqty': 15, 'Net weight': '50g'}\n",
      "119  :  {'Pid': '009', 'Pname': 'Britania Marie Lite Biscuit', 'Pprice': 20, 'Pqty': 16, 'Net weight': '25g'}\n",
      "120  :  {'Pid': '010', 'Pname': 'Nestle Coffee powder', 'Pprice': 25, 'Pqty': 38, 'Net weight': '40g'}\n",
      "121  :  {'Pid': '011', 'Pname': 'Pears Soap', 'Pprice': 35, 'Pqty': 20, 'Net weight': '40g'}\n",
      "122  :  {'Pid': '012', 'Pname': 'Nirma Washing powder', 'Pprice': 40, 'Pqty': 10, 'Net weight': '50g'}\n",
      "123  :  {'Pid': '013', 'Pname': 'Kesh King hair oil', 'Pprice': 35, 'Pqty': 58, 'Net weight': '40g'}\n",
      "124  :  {'Pid': '014', 'Pname': 'Detol Handwash', 'Pprice': 50, 'Pqty': 30, 'Net weight': '50g'}\n",
      "125  :  {'Pid': '015', 'Pname': 'Dove Shampoo', 'Pprice': 50, 'Pqty': 20, 'Net weight': '55g'}\n",
      "126  :  {'Pid': '016', 'Pname': 'Wow Skin Science hair Conditioner', 'Pprice': 55, 'Pqty': 22, 'Net weight': '50g'}\n",
      "127  :  {'Pid': '017', 'Pname': 'Wosh After wash', 'Pprice': 60, 'Pqty': 25, 'Net weight': '40g'}\n",
      "128  :  {'Pid': '018', 'Pname': 'Dove Moisturizer', 'Pprice': 45, 'Pqty': 18, 'Net weight': '15g'}\n",
      "129  :  {'Pid': '019', 'Pname': 'Cotton buds', 'Pprice': 30, 'Pqty': 18, 'Net weight': '30g'}\n",
      "130  :  {'Pid': '020', 'Pname': 'Bislery Mineral Water', 'Pprice': 15, 'Pqty': 18, 'Net weight': '1000ml'}\n",
      "331  :  {'Pid': '021', 'Pname': 'Brown Rice', 'Pprice': 155, 'Pqty': 30, 'Net weight': '2kg'}\n",
      "332  :  {'Pid': '022', 'Pname': 'Whole Wheat', 'Pprice': 145, 'Pqty': 30, 'Net weight': '1kg'}\n",
      "333  :  {'Pid': '023', 'Pname': 'Moong Dal', 'Pprice': 135, 'Pqty': 11, 'Net weight': '1kg'}\n",
      "334  :  {'Pid': '024', 'Pname': 'Tur Dal', 'Pprice': 150, 'Pqty': 14, 'Net weight': '2kg'}\n",
      "335  :  {'Pid': '025', 'Pname': 'Rajma', 'Pprice': 95, 'Pqty': 5, 'Net weight': '1kg'}\n",
      "336  :  {'Pid': '026', 'Pname': 'Jowar', 'Pprice': 150, 'Pqty': 10, 'Net weight': '2kg'}\n",
      "337  :  {'Pid': '027', 'Pname': 'Ragi', 'Pprice': 100, 'Pqty': 20, 'Net weight': '1kg'}\n",
      "338  :  {'Pid': '028', 'Pname': 'Corn Flour', 'Pprice': 50, 'Pqty': 20, 'Net weight': '50g'}\n",
      "139  :  {'Pid': '029', 'Pname': 'All Purpose Flour', 'Pprice': 50, 'Pqty': 30, 'Net weight': '40g'}\n",
      "440  :  {'Pid': '030', 'Pname': 'Green Peas', 'Pprice': 30, 'Pqty': 45, 'Net weight': '40g'}\n"
     ]
    },
    {
     "name": "stdin",
     "output_type": "stream",
     "text": [
      "\n",
      "Enter product code:  677\n",
      "\n",
      "Enter product id:  546\n",
      "\n",
      "Enter product name:  Tata salt\n",
      "\n",
      "Enter product price:  87\n",
      "\n",
      "Enter product quantity:  34\n"
     ]
    },
    {
     "name": "stdout",
     "output_type": "stream",
     "text": [
      "Item added :  677  :  {'Pid': '546', 'Pname': 'Tata salt', 'Pprice': 87, 'Pqty': 34}\n",
      "*************************************Welcome To Shopify**********************************************\n",
      "Enter 1 to Add item\n",
      "Enter 2 to Delete item\n",
      "Enter 3 to Edit item\n",
      "Enter 4 to Purchase item\n",
      "Enter 5 to View all items\n",
      "Enter 6 to Exit\n"
     ]
    },
    {
     "name": "stdin",
     "output_type": "stream",
     "text": [
      "What do you wish to do? Please enter your choice: 2\n"
     ]
    },
    {
     "name": "stdout",
     "output_type": "stream",
     "text": [
      "Delete item from: \n",
      "\n",
      "Code\tProduct Details\n",
      "211  :  {'Pid': '001', 'Pname': 'Hershey Chocolate', 'Pprice': 15, 'Pqty': 55, 'Net weight': '10g'}\n",
      "312  :  {'Pid': '002', 'Pname': 'Aul Ice cream', 'Pprice': 30, 'Pqty': 25, 'Net weight': '20g'}\n",
      "413  :  {'Pid': '003', 'Pname': 'Lactone Pastry', 'Pprice': 45, 'Pqty': 20, 'Net weight': '20g'}\n",
      "514  :  {'Pid': '004', 'Pname': 'Pepsi Coke', 'Pprice': 50, 'Pqty': 30, 'Net weight': '40ml'}\n",
      "615  :  {'Pid': '005', 'Pname': 'Heins Tomato Ketchup', 'Pprice': 45, 'Pqty': 15, 'Net weight': '50g'}\n",
      "716  :  {'Pid': '006', 'Pname': 'Amul Cheese', 'Pprice': 40, 'Pqty': 10, 'Net weight': '100g'}\n",
      "817  :  {'Pid': '007', 'Pname': 'Brown Sugar', 'Pprice': 50, 'Pqty': 35, 'Net weight': '1kg'}\n",
      "918  :  {'Pid': '008', 'Pname': 'Green Tea powder', 'Pprice': 20, 'Pqty': 15, 'Net weight': '50g'}\n",
      "119  :  {'Pid': '009', 'Pname': 'Britania Marie Lite Biscuit', 'Pprice': 20, 'Pqty': 16, 'Net weight': '25g'}\n",
      "120  :  {'Pid': '010', 'Pname': 'Nestle Coffee powder', 'Pprice': 25, 'Pqty': 38, 'Net weight': '40g'}\n",
      "121  :  {'Pid': '011', 'Pname': 'Pears Soap', 'Pprice': 35, 'Pqty': 20, 'Net weight': '40g'}\n",
      "122  :  {'Pid': '012', 'Pname': 'Nirma Washing powder', 'Pprice': 40, 'Pqty': 10, 'Net weight': '50g'}\n",
      "123  :  {'Pid': '013', 'Pname': 'Kesh King hair oil', 'Pprice': 35, 'Pqty': 58, 'Net weight': '40g'}\n",
      "124  :  {'Pid': '014', 'Pname': 'Detol Handwash', 'Pprice': 50, 'Pqty': 30, 'Net weight': '50g'}\n",
      "125  :  {'Pid': '015', 'Pname': 'Dove Shampoo', 'Pprice': 50, 'Pqty': 20, 'Net weight': '55g'}\n",
      "126  :  {'Pid': '016', 'Pname': 'Wow Skin Science hair Conditioner', 'Pprice': 55, 'Pqty': 22, 'Net weight': '50g'}\n",
      "127  :  {'Pid': '017', 'Pname': 'Wosh After wash', 'Pprice': 60, 'Pqty': 25, 'Net weight': '40g'}\n",
      "128  :  {'Pid': '018', 'Pname': 'Dove Moisturizer', 'Pprice': 45, 'Pqty': 18, 'Net weight': '15g'}\n",
      "129  :  {'Pid': '019', 'Pname': 'Cotton buds', 'Pprice': 30, 'Pqty': 18, 'Net weight': '30g'}\n",
      "130  :  {'Pid': '020', 'Pname': 'Bislery Mineral Water', 'Pprice': 15, 'Pqty': 18, 'Net weight': '1000ml'}\n",
      "331  :  {'Pid': '021', 'Pname': 'Brown Rice', 'Pprice': 155, 'Pqty': 30, 'Net weight': '2kg'}\n",
      "332  :  {'Pid': '022', 'Pname': 'Whole Wheat', 'Pprice': 145, 'Pqty': 30, 'Net weight': '1kg'}\n",
      "333  :  {'Pid': '023', 'Pname': 'Moong Dal', 'Pprice': 135, 'Pqty': 11, 'Net weight': '1kg'}\n",
      "334  :  {'Pid': '024', 'Pname': 'Tur Dal', 'Pprice': 150, 'Pqty': 14, 'Net weight': '2kg'}\n",
      "335  :  {'Pid': '025', 'Pname': 'Rajma', 'Pprice': 95, 'Pqty': 5, 'Net weight': '1kg'}\n",
      "336  :  {'Pid': '026', 'Pname': 'Jowar', 'Pprice': 150, 'Pqty': 10, 'Net weight': '2kg'}\n",
      "337  :  {'Pid': '027', 'Pname': 'Ragi', 'Pprice': 100, 'Pqty': 20, 'Net weight': '1kg'}\n",
      "338  :  {'Pid': '028', 'Pname': 'Corn Flour', 'Pprice': 50, 'Pqty': 20, 'Net weight': '50g'}\n",
      "139  :  {'Pid': '029', 'Pname': 'All Purpose Flour', 'Pprice': 50, 'Pqty': 30, 'Net weight': '40g'}\n",
      "440  :  {'Pid': '030', 'Pname': 'Green Peas', 'Pprice': 30, 'Pqty': 45, 'Net weight': '40g'}\n",
      "677  :  {'Pid': '546', 'Pname': 'Tata salt', 'Pprice': 87, 'Pqty': 34}\n"
     ]
    },
    {
     "name": "stdin",
     "output_type": "stream",
     "text": [
      "Enter code:  120\n"
     ]
    },
    {
     "name": "stdout",
     "output_type": "stream",
     "text": [
      "Deleted item:  120  :  {'Pid': '010', 'Pname': 'Nestle Coffee powder', 'Pprice': 25, 'Pqty': 38, 'Net weight': '40g'}\n",
      "*************************************Welcome To Shopify**********************************************\n",
      "Enter 1 to Add item\n",
      "Enter 2 to Delete item\n",
      "Enter 3 to Edit item\n",
      "Enter 4 to Purchase item\n",
      "Enter 5 to View all items\n",
      "Enter 6 to Exit\n"
     ]
    },
    {
     "name": "stdin",
     "output_type": "stream",
     "text": [
      "What do you wish to do? Please enter your choice: 3\n"
     ]
    },
    {
     "name": "stdout",
     "output_type": "stream",
     "text": [
      "Edit item from: \n",
      "\n",
      "Code\tProduct Details\n",
      "211  :  {'Pid': '001', 'Pname': 'Hershey Chocolate', 'Pprice': 15, 'Pqty': 55, 'Net weight': '10g'}\n",
      "312  :  {'Pid': '002', 'Pname': 'Aul Ice cream', 'Pprice': 30, 'Pqty': 25, 'Net weight': '20g'}\n",
      "413  :  {'Pid': '003', 'Pname': 'Lactone Pastry', 'Pprice': 45, 'Pqty': 20, 'Net weight': '20g'}\n",
      "514  :  {'Pid': '004', 'Pname': 'Pepsi Coke', 'Pprice': 50, 'Pqty': 30, 'Net weight': '40ml'}\n",
      "615  :  {'Pid': '005', 'Pname': 'Heins Tomato Ketchup', 'Pprice': 45, 'Pqty': 15, 'Net weight': '50g'}\n",
      "716  :  {'Pid': '006', 'Pname': 'Amul Cheese', 'Pprice': 40, 'Pqty': 10, 'Net weight': '100g'}\n",
      "817  :  {'Pid': '007', 'Pname': 'Brown Sugar', 'Pprice': 50, 'Pqty': 35, 'Net weight': '1kg'}\n",
      "918  :  {'Pid': '008', 'Pname': 'Green Tea powder', 'Pprice': 20, 'Pqty': 15, 'Net weight': '50g'}\n",
      "119  :  {'Pid': '009', 'Pname': 'Britania Marie Lite Biscuit', 'Pprice': 20, 'Pqty': 16, 'Net weight': '25g'}\n",
      "121  :  {'Pid': '011', 'Pname': 'Pears Soap', 'Pprice': 35, 'Pqty': 20, 'Net weight': '40g'}\n",
      "122  :  {'Pid': '012', 'Pname': 'Nirma Washing powder', 'Pprice': 40, 'Pqty': 10, 'Net weight': '50g'}\n",
      "123  :  {'Pid': '013', 'Pname': 'Kesh King hair oil', 'Pprice': 35, 'Pqty': 58, 'Net weight': '40g'}\n",
      "124  :  {'Pid': '014', 'Pname': 'Detol Handwash', 'Pprice': 50, 'Pqty': 30, 'Net weight': '50g'}\n",
      "125  :  {'Pid': '015', 'Pname': 'Dove Shampoo', 'Pprice': 50, 'Pqty': 20, 'Net weight': '55g'}\n",
      "126  :  {'Pid': '016', 'Pname': 'Wow Skin Science hair Conditioner', 'Pprice': 55, 'Pqty': 22, 'Net weight': '50g'}\n",
      "127  :  {'Pid': '017', 'Pname': 'Wosh After wash', 'Pprice': 60, 'Pqty': 25, 'Net weight': '40g'}\n",
      "128  :  {'Pid': '018', 'Pname': 'Dove Moisturizer', 'Pprice': 45, 'Pqty': 18, 'Net weight': '15g'}\n",
      "129  :  {'Pid': '019', 'Pname': 'Cotton buds', 'Pprice': 30, 'Pqty': 18, 'Net weight': '30g'}\n",
      "130  :  {'Pid': '020', 'Pname': 'Bislery Mineral Water', 'Pprice': 15, 'Pqty': 18, 'Net weight': '1000ml'}\n",
      "331  :  {'Pid': '021', 'Pname': 'Brown Rice', 'Pprice': 155, 'Pqty': 30, 'Net weight': '2kg'}\n",
      "332  :  {'Pid': '022', 'Pname': 'Whole Wheat', 'Pprice': 145, 'Pqty': 30, 'Net weight': '1kg'}\n",
      "333  :  {'Pid': '023', 'Pname': 'Moong Dal', 'Pprice': 135, 'Pqty': 11, 'Net weight': '1kg'}\n",
      "334  :  {'Pid': '024', 'Pname': 'Tur Dal', 'Pprice': 150, 'Pqty': 14, 'Net weight': '2kg'}\n",
      "335  :  {'Pid': '025', 'Pname': 'Rajma', 'Pprice': 95, 'Pqty': 5, 'Net weight': '1kg'}\n",
      "336  :  {'Pid': '026', 'Pname': 'Jowar', 'Pprice': 150, 'Pqty': 10, 'Net weight': '2kg'}\n",
      "337  :  {'Pid': '027', 'Pname': 'Ragi', 'Pprice': 100, 'Pqty': 20, 'Net weight': '1kg'}\n",
      "338  :  {'Pid': '028', 'Pname': 'Corn Flour', 'Pprice': 50, 'Pqty': 20, 'Net weight': '50g'}\n",
      "139  :  {'Pid': '029', 'Pname': 'All Purpose Flour', 'Pprice': 50, 'Pqty': 30, 'Net weight': '40g'}\n",
      "440  :  {'Pid': '030', 'Pname': 'Green Peas', 'Pprice': 30, 'Pqty': 45, 'Net weight': '40g'}\n",
      "677  :  {'Pid': '546', 'Pname': 'Tata salt', 'Pprice': 87, 'Pqty': 34}\n"
     ]
    },
    {
     "name": "stdin",
     "output_type": "stream",
     "text": [
      "Enter code:  334\n",
      "\n",
      "Enter new product id:  240\n",
      "\n",
      "Enter new product name:  beans\n",
      "\n",
      "Enter new product price:  35\n",
      "\n",
      "Enter new product quantity:  32\n"
     ]
    },
    {
     "name": "stdout",
     "output_type": "stream",
     "text": [
      "Edited item:  334  :  {'Pid': '240', 'Pname': 'beans', 'Pprice': 35, 'Pqty': 32}\n",
      "*************************************Welcome To Shopify**********************************************\n",
      "Enter 1 to Add item\n",
      "Enter 2 to Delete item\n",
      "Enter 3 to Edit item\n",
      "Enter 4 to Purchase item\n",
      "Enter 5 to View all items\n",
      "Enter 6 to Exit\n"
     ]
    },
    {
     "name": "stdin",
     "output_type": "stream",
     "text": [
      "What do you wish to do? Please enter your choice: 4\n"
     ]
    },
    {
     "name": "stdout",
     "output_type": "stream",
     "text": [
      "\n",
      "*****************ITEMS*****************\n",
      "\n",
      "Code\tProduct Details\n",
      "211  :  {'Pid': '001', 'Pname': 'Hershey Chocolate', 'Pprice': 15, 'Pqty': 55, 'Net weight': '10g'}\n",
      "312  :  {'Pid': '002', 'Pname': 'Aul Ice cream', 'Pprice': 30, 'Pqty': 25, 'Net weight': '20g'}\n",
      "413  :  {'Pid': '003', 'Pname': 'Lactone Pastry', 'Pprice': 45, 'Pqty': 20, 'Net weight': '20g'}\n",
      "514  :  {'Pid': '004', 'Pname': 'Pepsi Coke', 'Pprice': 50, 'Pqty': 30, 'Net weight': '40ml'}\n",
      "615  :  {'Pid': '005', 'Pname': 'Heins Tomato Ketchup', 'Pprice': 45, 'Pqty': 15, 'Net weight': '50g'}\n",
      "716  :  {'Pid': '006', 'Pname': 'Amul Cheese', 'Pprice': 40, 'Pqty': 10, 'Net weight': '100g'}\n",
      "817  :  {'Pid': '007', 'Pname': 'Brown Sugar', 'Pprice': 50, 'Pqty': 35, 'Net weight': '1kg'}\n",
      "918  :  {'Pid': '008', 'Pname': 'Green Tea powder', 'Pprice': 20, 'Pqty': 15, 'Net weight': '50g'}\n",
      "119  :  {'Pid': '009', 'Pname': 'Britania Marie Lite Biscuit', 'Pprice': 20, 'Pqty': 16, 'Net weight': '25g'}\n",
      "121  :  {'Pid': '011', 'Pname': 'Pears Soap', 'Pprice': 35, 'Pqty': 20, 'Net weight': '40g'}\n",
      "122  :  {'Pid': '012', 'Pname': 'Nirma Washing powder', 'Pprice': 40, 'Pqty': 10, 'Net weight': '50g'}\n",
      "123  :  {'Pid': '013', 'Pname': 'Kesh King hair oil', 'Pprice': 35, 'Pqty': 58, 'Net weight': '40g'}\n",
      "124  :  {'Pid': '014', 'Pname': 'Detol Handwash', 'Pprice': 50, 'Pqty': 30, 'Net weight': '50g'}\n",
      "125  :  {'Pid': '015', 'Pname': 'Dove Shampoo', 'Pprice': 50, 'Pqty': 20, 'Net weight': '55g'}\n",
      "126  :  {'Pid': '016', 'Pname': 'Wow Skin Science hair Conditioner', 'Pprice': 55, 'Pqty': 22, 'Net weight': '50g'}\n",
      "127  :  {'Pid': '017', 'Pname': 'Wosh After wash', 'Pprice': 60, 'Pqty': 25, 'Net weight': '40g'}\n",
      "128  :  {'Pid': '018', 'Pname': 'Dove Moisturizer', 'Pprice': 45, 'Pqty': 18, 'Net weight': '15g'}\n",
      "129  :  {'Pid': '019', 'Pname': 'Cotton buds', 'Pprice': 30, 'Pqty': 18, 'Net weight': '30g'}\n",
      "130  :  {'Pid': '020', 'Pname': 'Bislery Mineral Water', 'Pprice': 15, 'Pqty': 18, 'Net weight': '1000ml'}\n",
      "331  :  {'Pid': '021', 'Pname': 'Brown Rice', 'Pprice': 155, 'Pqty': 30, 'Net weight': '2kg'}\n",
      "332  :  {'Pid': '022', 'Pname': 'Whole Wheat', 'Pprice': 145, 'Pqty': 30, 'Net weight': '1kg'}\n",
      "333  :  {'Pid': '023', 'Pname': 'Moong Dal', 'Pprice': 135, 'Pqty': 11, 'Net weight': '1kg'}\n",
      "334  :  {'Pid': '240', 'Pname': 'beans', 'Pprice': 35, 'Pqty': 32}\n",
      "335  :  {'Pid': '025', 'Pname': 'Rajma', 'Pprice': 95, 'Pqty': 5, 'Net weight': '1kg'}\n",
      "336  :  {'Pid': '026', 'Pname': 'Jowar', 'Pprice': 150, 'Pqty': 10, 'Net weight': '2kg'}\n",
      "337  :  {'Pid': '027', 'Pname': 'Ragi', 'Pprice': 100, 'Pqty': 20, 'Net weight': '1kg'}\n",
      "338  :  {'Pid': '028', 'Pname': 'Corn Flour', 'Pprice': 50, 'Pqty': 20, 'Net weight': '50g'}\n",
      "139  :  {'Pid': '029', 'Pname': 'All Purpose Flour', 'Pprice': 50, 'Pqty': 30, 'Net weight': '40g'}\n",
      "440  :  {'Pid': '030', 'Pname': 'Green Peas', 'Pprice': 30, 'Pqty': 45, 'Net weight': '40g'}\n",
      "677  :  {'Pid': '546', 'Pname': 'Tata salt', 'Pprice': 87, 'Pqty': 34}\n"
     ]
    },
    {
     "name": "stdin",
     "output_type": "stream",
     "text": [
      "\n",
      "Enter product code:  121\n",
      "Enter product quantity:  6\n"
     ]
    },
    {
     "name": "stdout",
     "output_type": "stream",
     "text": [
      "\n",
      "*****************BILL*****************\n",
      "-------------------------------------\n",
      "Date: 03/09/2021\tTime: 07:04:56\n",
      "-------------------------------------\n",
      "\n",
      "Code:  121\n",
      "\n",
      "Product ID:  011\n",
      "\n",
      "Product Name:  Pears Soap\n",
      "\n",
      "Quantity:  6\n",
      "\n",
      "Product Price:  35\n",
      "-------------------------------------\n",
      "Total Amount:  210\n",
      "-------------------------------------\n",
      "*************************************Welcome To Shopify**********************************************\n",
      "Enter 1 to Add item\n",
      "Enter 2 to Delete item\n",
      "Enter 3 to Edit item\n",
      "Enter 4 to Purchase item\n",
      "Enter 5 to View all items\n",
      "Enter 6 to Exit\n"
     ]
    },
    {
     "name": "stdin",
     "output_type": "stream",
     "text": [
      "What do you wish to do? Please enter your choice: 6\n"
     ]
    },
    {
     "name": "stdout",
     "output_type": "stream",
     "text": [
      "Thanks for using Shopify!\n"
     ]
    }
   ],
   "source": [
    "rec= { \"211\" : {\"Pid\":\"001\",\"Pname\": \"Hershey Chocolate\" , \"Pprice\": 15, \"Pqty\":55, \"Net weight\":\"10g\"},\n",
    "       \"312\" : {\"Pid\":\"002\",\"Pname\": \"Aul Ice cream\", \"Pprice\": 30,\"Pqty\":25,\"Net weight\":\"20g\"},\n",
    "       \"413\" : {\"Pid\":\"003\",\"Pname\": \"Lactone Pastry\"   , \"Pprice\": 45,\"Pqty\":20,\"Net weight\":\"20g\"},\n",
    "       \"514\" : {\"Pid\":\"004\",\"Pname\": \"Pepsi Coke\"   , \"Pprice\": 50,\"Pqty\":30,\"Net weight\":\"40ml\"},\n",
    "       \"615\" : {\"Pid\":\"005\",\"Pname\": \"Heins Tomato Ketchup\"   , \"Pprice\": 45,\"Pqty\":15,\"Net weight\":\"50g\"},\n",
    "       \"716\" : {\"Pid\":\"006\",\"Pname\": \"Amul Cheese\"   , \"Pprice\": 40,\"Pqty\":10,\"Net weight\":\"100g\"},\n",
    "       \"817\" : {\"Pid\":\"007\",\"Pname\": \"Brown Sugar\"   , \"Pprice\": 50,\"Pqty\":35,\"Net weight\":\"1kg\"}, \n",
    "       \"918\" : {\"Pid\":\"008\",\"Pname\": \"Green Tea powder\"   , \"Pprice\": 20,\"Pqty\":15,\"Net weight\":\"50g\"}, \n",
    "       \"119\" : {\"Pid\":\"009\",\"Pname\": \"Britania Marie Lite Biscuit\"   , \"Pprice\": 20,\"Pqty\":16,\"Net weight\":\"25g\"},\n",
    "       \"120\" : {\"Pid\":\"010\",\"Pname\": \"Nestle Coffee powder\"   , \"Pprice\":25,\"Pqty\":38,\"Net weight\":\"40g\"},\n",
    "       \"121\" : {\"Pid\":\"011\",\"Pname\": \"Pears Soap\"   , \"Pprice\":35,\"Pqty\":20,\"Net weight\":\"40g\"}, \n",
    "       \"122\" : {\"Pid\":\"012\",\"Pname\": \"Nirma Washing powder\"   , \"Pprice\":40,\"Pqty\":10,\"Net weight\":\"50g\"}, \n",
    "       \"123\" : {\"Pid\":\"013\",\"Pname\": \"Kesh King hair oil\"   , \"Pprice\":35,\"Pqty\":58,\"Net weight\":\"40g\"}, \n",
    "       \"124\" : {\"Pid\":\"014\",\"Pname\": \"Detol Handwash\"   , \"Pprice\":50,\"Pqty\":30,\"Net weight\":\"50g\"}, \n",
    "       \"125\" : {\"Pid\":\"015\",\"Pname\": \"Dove Shampoo\"   , \"Pprice\":50,\"Pqty\":20,\"Net weight\":\"55g\"}, \n",
    "       \"126\" : {\"Pid\":\"016\",\"Pname\": \"Wow Skin Science hair Conditioner\"   , \"Pprice\":55,\"Pqty\":22,\"Net weight\":\"50g\"}, \n",
    "       \"127\" : {\"Pid\":\"017\",\"Pname\": \"Wosh After wash\"   , \"Pprice\":60,\"Pqty\":25,\"Net weight\":\"40g\"}, \n",
    "       \"128\" : {\"Pid\":\"018\",\"Pname\": \"Dove Moisturizer\"   , \"Pprice\":45,\"Pqty\":18,\"Net weight\":\"15g\"}, \n",
    "       \"129\" : {\"Pid\":\"019\",\"Pname\": \"Cotton buds\"   , \"Pprice\":30,\"Pqty\":18,\"Net weight\":\"30g\"}, \n",
    "       \"130\" : {\"Pid\":\"020\",\"Pname\": \"Bislery Mineral Water\"   , \"Pprice\":15,\"Pqty\":18,\"Net weight\":\"1000ml\"}, \n",
    "       \"331\" : {\"Pid\":\"021\",\"Pname\": \"Brown Rice\"   , \"Pprice\":155,\"Pqty\":30,\"Net weight\":\"2kg\"}, \n",
    "       \"332\" : {\"Pid\":\"022\",\"Pname\": \"Whole Wheat\"   , \"Pprice\":145,\"Pqty\":30,\"Net weight\":\"1kg\"}, \n",
    "       \"333\" : {\"Pid\":\"023\",\"Pname\": \"Moong Dal\"   , \"Pprice\":135,\"Pqty\":11,\"Net weight\":\"1kg\"}, \n",
    "       \"334\" : {\"Pid\":\"024\",\"Pname\": \"Tur Dal\"   , \"Pprice\":150,\"Pqty\":14,\"Net weight\":\"2kg\"}, \n",
    "       \"335\" : {\"Pid\":\"025\",\"Pname\": \"Rajma\"   , \"Pprice\":95,\"Pqty\":5,\"Net weight\":\"1kg\"}, \n",
    "       \"336\" : {\"Pid\":\"026\",\"Pname\": \"Jowar\"   , \"Pprice\":150,\"Pqty\":10,\"Net weight\":\"2kg\"}, \n",
    "       \"337\" : {\"Pid\":\"027\",\"Pname\": \"Ragi\"   , \"Pprice\":100,\"Pqty\":20,\"Net weight\":\"1kg\"}, \n",
    "       \"338\" : {\"Pid\":\"028\",\"Pname\": \"Corn Flour\"   , \"Pprice\":50,\"Pqty\":20,\"Net weight\":\"50g\"}, \n",
    "       \"139\" : {\"Pid\":\"029\",\"Pname\": \"All Purpose Flour\"   , \"Pprice\":50,\"Pqty\":30,\"Net weight\":\"40g\"}, \n",
    "       \"440\" : {\"Pid\":\"030\",\"Pname\": \"Green Peas\"   , \"Pprice\":30,\"Pqty\":45,\"Net weight\":\"40g\"}, \n",
    "     }\n",
    "from datetime import datetime\n",
    "import json\n",
    "js=json.dumps(rec)\n",
    "fd = open(\"record.json\",\"w\")\n",
    "fd.write(js)\n",
    "def disp():\n",
    "    print(\"\\nCode\\tProduct Details\")\n",
    "    for key, value in rec.items():\n",
    "        print(key ,' : ', value)\n",
    "    \n",
    "flag=True\n",
    "while (flag==True):\n",
    "    print(\"*************************************Welcome To Shopify**********************************************\")\n",
    "    print(\"Enter 1 to Add item\")\n",
    "    print(\"Enter 2 to Delete item\")\n",
    "    print(\"Enter 3 to Edit item\")\n",
    "    print(\"Enter 4 to Purchase item\")\n",
    "    print(\"Enter 5 to View all items\")\n",
    "    print(\"Enter 6 to Exit\")\n",
    "    select=int(input(\"What do you wish to do? Please enter your choice:\"))\n",
    "    \n",
    "    if(select==1):\n",
    "        print(\"Add item in :\")\n",
    "        disp()\n",
    "        rec=json.loads(js)\n",
    "        code=input(\"\\nEnter product code: \")\n",
    "        p_id=input(\"\\nEnter product id: \")\n",
    "        p_name=input(\"\\nEnter product name: \")\n",
    "        p_price=int(input(\"\\nEnter product price: \"))\n",
    "        p_qty=int(input(\"\\nEnter product quantity: \"))\n",
    "        rec.update({code:{\"Pid\":p_id,\"Pname\": p_name , \"Pprice\": p_price,\"Pqty\":p_qty}})\n",
    "        js=json.dumps(rec)\n",
    "        fd = open(\"record.txt\",\"w\")\n",
    "        fd.write(js)\n",
    "        fd.close()\n",
    "        print(\"Item added : \",code,\" : \",rec[code])\n",
    "        \n",
    "    elif(select==2):\n",
    "        print(\"Delete item from: \")\n",
    "        rec=json.loads(js)\n",
    "        disp()\n",
    "        code=input(\"Enter code: \")\n",
    "        if code in rec.keys():\n",
    "            i=rec[code]\n",
    "            rec.pop(code)\n",
    "            js=json.dumps(rec)\n",
    "            fd = open(\"record.txt\",\"w\")\n",
    "            print(\"Deleted item: \",code,\" : \",i)\n",
    "            fd.write(js)\n",
    "            fd.close()\n",
    "        else:\n",
    "            \n",
    "            print(\"Invalid Code\")\n",
    "    \n",
    "    elif(select==3):\n",
    "        print(\"Edit item from: \")\n",
    "        rec=json.loads(js)\n",
    "        disp()\n",
    "        code=input(\"Enter code: \")\n",
    "        if code in rec.keys():\n",
    "            p_id=input(\"\\nEnter new product id: \")\n",
    "            p_name=input(\"\\nEnter new product name: \")\n",
    "            p_price=int(input(\"\\nEnter new product price: \"))\n",
    "            p_qty=int(input(\"\\nEnter new product quantity: \"))\n",
    "            rec.update({code:{\"Pid\":p_id,\"Pname\": p_name , \"Pprice\": p_price,\"Pqty\":p_qty}})\n",
    "            js=json.dumps(rec)\n",
    "            fd = open(\"record.txt\",\"w\")\n",
    "            print(\"Edited item: \",code,\" : \",rec[code])\n",
    "            fd.write(js)\n",
    "            fd.close()\n",
    "        else:\n",
    "            print(\"Invalid Code\")\n",
    "    \n",
    "    elif(select==4):\n",
    "        rec=json.loads(js)\n",
    "        print(\"\\n*****************ITEMS*****************\")\n",
    "        disp()\n",
    "        prod=input(\"\\nEnter product code: \")\n",
    "        \n",
    "        if prod in rec.keys():\n",
    "            Q=int(input(\"Enter product quantity: \"))\n",
    "            if((rec[prod]['Pqty'])>=Q):\n",
    "                print(\"\\n*****************BILL*****************\")\n",
    "                now = datetime.now()\n",
    "                print(\"-------------------------------------\")\n",
    "                print(\"Date:\",now.strftime(\"%d/%m/%Y\")+\"\\tTime:\",now.strftime(\"%H:%M:%S\"))\n",
    "                print(\"-------------------------------------\")\n",
    "                rec[prod]['Pqty']-=Q\n",
    "                js=json.dumps(rec)\n",
    "                fd = open(\"record.txt\",\"w\")\n",
    "                fd.write(js)\n",
    "                fd.close()\n",
    "                print(\"\\nCode: \",prod)\n",
    "                print(\"\\nProduct ID: \",rec[prod]['Pid'])\n",
    "                print(\"\\nProduct Name: \",rec[prod]['Pname'])\n",
    "                print(\"\\nQuantity: \",Q)\n",
    "                print(\"\\nProduct Price: \",rec[prod]['Pprice'])\n",
    "                print(\"-------------------------------------\")\n",
    "                print(\"Total Amount: \",rec[prod]['Pprice']*Q)\n",
    "                print(\"-------------------------------------\")\n",
    "            else:\n",
    "                print(\"SORRY... Total Quantity available is: \",rec[prod]['Pqty'])\n",
    "        else:\n",
    "            print(\"Invalid Code\")\n",
    "    \n",
    "    elif(select==5):\n",
    "        print(\"Items present in Shopify\")\n",
    "        disp()\n",
    "    elif(select==6):\n",
    "        print(\"Thanks for using Shopify!\")\n",
    "        flag=False\n",
    "    else:\n",
    "        print(\"Invalid choice. Please choose again!!\")\n",
    "       \n",
    "    \n",
    "    \n",
    "fd.close()"
   ]
  },
  {
   "cell_type": "code",
   "execution_count": null,
   "id": "78cc26c8-6c70-4e2a-9af5-538f64960515",
   "metadata": {},
   "outputs": [],
   "source": []
  }
 ],
 "metadata": {
  "kernelspec": {
   "display_name": "Python 3",
   "language": "python",
   "name": "python3"
  },
  "language_info": {
   "codemirror_mode": {
    "name": "ipython",
    "version": 3
   },
   "file_extension": ".py",
   "mimetype": "text/x-python",
   "name": "python",
   "nbconvert_exporter": "python",
   "pygments_lexer": "ipython3",
   "version": "3.7.8"
  }
 },
 "nbformat": 4,
 "nbformat_minor": 5
}
